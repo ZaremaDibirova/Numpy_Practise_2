{
 "cells": [
  {
   "cell_type": "code",
   "execution_count": null,
   "id": "cbe31a29-90b1-48cd-b9bb-7762be91433c",
   "metadata": {},
   "outputs": [],
   "source": [
    "#1) 0-29 arası(29 dahil, toplam 30 tam sayı) tam sayılardan oluşan bir boyutlu bir array oluşturun ardından bu array'in shape'ini (15,2) şeklinde\n",
    "#güncelleyip 2 boyutlu hale getirin.\n"
   ]
  },
  {
   "cell_type": "code",
   "execution_count": 3,
   "id": "5dd51c81-e673-4946-8f02-8d6a7869a348",
   "metadata": {},
   "outputs": [],
   "source": [
    "import numpy as np"
   ]
  },
  {
   "cell_type": "code",
   "execution_count": 2,
   "id": "a7da8af6-b641-4709-aa22-cc09178324e3",
   "metadata": {},
   "outputs": [
    {
     "data": {
      "text/plain": [
       "array([[ 0,  1],\n",
       "       [ 2,  3],\n",
       "       [ 4,  5],\n",
       "       [ 6,  7],\n",
       "       [ 8,  9],\n",
       "       [10, 11],\n",
       "       [12, 13],\n",
       "       [14, 15],\n",
       "       [16, 17],\n",
       "       [18, 19],\n",
       "       [20, 21],\n",
       "       [22, 23],\n",
       "       [24, 25],\n",
       "       [26, 27],\n",
       "       [28, 29]])"
      ]
     },
     "execution_count": 2,
     "metadata": {},
     "output_type": "execute_result"
    }
   ],
   "source": [
    "np.arange(30).reshape(15,2)"
   ]
  },
  {
   "cell_type": "code",
   "execution_count": null,
   "id": "19791e86-d8f9-45d0-a1d5-26ffbb1886d3",
   "metadata": {},
   "outputs": [],
   "source": [
    "#2) 60 adet rastgele tam sayı verilerinden oluşan bir boyutlu bir array oluşturun. Devamında bu array'i istediğiniz shapelerde 3 boyutlu\n",
    "#hale getirin ve son durumda oluşan array'in boyutunu ve shape'ini kontrol edin.\n"
   ]
  },
  {
   "cell_type": "code",
   "execution_count": 4,
   "id": "05bb2543-6b09-4724-878c-cfb5bc903ea7",
   "metadata": {},
   "outputs": [
    {
     "data": {
      "text/plain": [
       "array([[[82, 54, 90, 20],\n",
       "        [11, 14, 45, 49],\n",
       "        [37, 73, 36, 79],\n",
       "        [20, 30, 88,  9],\n",
       "        [55, 63, 68, 99]],\n",
       "\n",
       "       [[59, 67, 93,  1],\n",
       "        [81, 78, 52, 23],\n",
       "        [ 0, 85, 31, 65],\n",
       "        [72, 61,  5, 86],\n",
       "        [28, 48, 55, 40]],\n",
       "\n",
       "       [[98, 21, 60, 89],\n",
       "        [33, 13, 24,  2],\n",
       "        [99, 59,  3, 21],\n",
       "        [21, 97, 62, 56],\n",
       "        [72, 65,  6,  6]]])"
      ]
     },
     "execution_count": 4,
     "metadata": {},
     "output_type": "execute_result"
    }
   ],
   "source": [
    "arr=np.random.randint(0,100,60).reshape(3,5,-1)\n",
    "arr"
   ]
  },
  {
   "cell_type": "code",
   "execution_count": 7,
   "id": "7f434f94-d3e6-45c1-b78f-7c5f2176d9be",
   "metadata": {},
   "outputs": [
    {
     "data": {
      "text/plain": [
       "(3, 5, 4)"
      ]
     },
     "execution_count": 7,
     "metadata": {},
     "output_type": "execute_result"
    }
   ],
   "source": [
    "arr.shape"
   ]
  },
  {
   "cell_type": "code",
   "execution_count": 8,
   "id": "905457ed-c613-4086-8010-d35edcaf6fa9",
   "metadata": {},
   "outputs": [
    {
     "data": {
      "text/plain": [
       "3"
      ]
     },
     "execution_count": 8,
     "metadata": {},
     "output_type": "execute_result"
    }
   ],
   "source": [
    "arr.ndim"
   ]
  },
  {
   "cell_type": "code",
   "execution_count": null,
   "id": "2308006b-ba57-4f7e-8b77-92e40de37a19",
   "metadata": {},
   "outputs": [],
   "source": [
    "#3) 20 elemanlı ve sadece rakamlardan oluşan iki boyutlu bir array oluşturun. Ardından bu array'i düzleştirin ve tek boyutlu hale \n",
    "#getirin ve son durumda oluşan array'in boyutunu ve shape'ini kontrol edin.\n"
   ]
  },
  {
   "cell_type": "code",
   "execution_count": 10,
   "id": "a5db6f3f-27d8-4dbc-9498-f841daeef6a8",
   "metadata": {},
   "outputs": [
    {
     "data": {
      "text/plain": [
       "array([[ 4, 24, 23, 16, 26],\n",
       "       [43, 48, 40, 13, 44],\n",
       "       [15, 41, 40, 24, 43],\n",
       "       [28, 31, 31, 21, 49]])"
      ]
     },
     "execution_count": 10,
     "metadata": {},
     "output_type": "execute_result"
    }
   ],
   "source": [
    "arr=np.random.randint(0,50,(4,5))\n",
    "arr"
   ]
  },
  {
   "cell_type": "code",
   "execution_count": 11,
   "id": "6853507e-9a4d-4ed9-b7c4-61351d132d6f",
   "metadata": {},
   "outputs": [],
   "source": [
    "arr=arr.reshape(-1)"
   ]
  },
  {
   "cell_type": "code",
   "execution_count": 14,
   "id": "6f472a28-2c95-49c3-9b8b-7fd3e6added2",
   "metadata": {},
   "outputs": [
    {
     "data": {
      "text/plain": [
       "(20,)"
      ]
     },
     "execution_count": 14,
     "metadata": {},
     "output_type": "execute_result"
    }
   ],
   "source": [
    "arr.shape"
   ]
  },
  {
   "cell_type": "code",
   "execution_count": 15,
   "id": "e0ffe75b-2886-4418-9f71-1e2feb3af74f",
   "metadata": {},
   "outputs": [
    {
     "data": {
      "text/plain": [
       "1"
      ]
     },
     "execution_count": 15,
     "metadata": {},
     "output_type": "execute_result"
    }
   ],
   "source": [
    "arr.ndim"
   ]
  },
  {
   "cell_type": "code",
   "execution_count": null,
   "id": "6751da5f-119f-4888-99b3-8ae2a7557e41",
   "metadata": {},
   "outputs": [],
   "source": [
    "#4) İstediğiniz herhangi elemanlardan oluşan 2 Boyutlu bir array oluşturun. Oluşturduğunuz bu 2 boyutlu array'in içindeki bütün \n",
    "#elemanları hem yavaş yol olan for döngüsüyle hem de daha hızlı yol olan uygun NumPy metoduyla tek tek dönerek ekrana yazdırın.\n"
   ]
  },
  {
   "cell_type": "code",
   "execution_count": 16,
   "id": "691165b8-7f98-480e-8aa3-db04acd0a4ee",
   "metadata": {},
   "outputs": [
    {
     "data": {
      "text/plain": [
       "array([[15, 20, 29],\n",
       "       [29, 30, 43],\n",
       "       [41, 49, 14]])"
      ]
     },
     "execution_count": 16,
     "metadata": {},
     "output_type": "execute_result"
    }
   ],
   "source": [
    "arr2d=np.random.randint(0,50,(3,3))\n",
    "arr2d"
   ]
  },
  {
   "cell_type": "code",
   "execution_count": 17,
   "id": "55d290b4-eca7-44a9-a968-ae21abe2aa07",
   "metadata": {},
   "outputs": [
    {
     "name": "stdout",
     "output_type": "stream",
     "text": [
      "15\n",
      "20\n",
      "29\n",
      "29\n",
      "30\n",
      "43\n",
      "41\n",
      "49\n",
      "14\n"
     ]
    }
   ],
   "source": [
    "for x in arr2d:\n",
    "    for y in x:\n",
    "        print(y)"
   ]
  },
  {
   "cell_type": "code",
   "execution_count": 18,
   "id": "6d49e522-4ad8-462d-a1ae-415700e5037e",
   "metadata": {},
   "outputs": [
    {
     "name": "stdout",
     "output_type": "stream",
     "text": [
      "15\n",
      "20\n",
      "29\n",
      "29\n",
      "30\n",
      "43\n",
      "41\n",
      "49\n",
      "14\n"
     ]
    }
   ],
   "source": [
    " for x in np.nditer(arr2d):\n",
    "     print(x)"
   ]
  },
  {
   "cell_type": "code",
   "execution_count": null,
   "id": "4d00f935-0c59-4451-b1f0-e98f44803838",
   "metadata": {},
   "outputs": [],
   "source": [
    "#5) 5,10,15,20,25,30 değerlerinden oluşan bir boyutlu bir array ve\n",
    "   #1,2,3,4,5,6 değerlerinden oluşan başka bir boyutlu bir array oluşturun.\n",
    "  # Bu arraylerinin elemanlarına kendi aralarında 4 işlem uygulayın.(toplansın/çıkartılsın/çarpılsın/bölünsün gibi.)\n"
   ]
  },
  {
   "cell_type": "code",
   "execution_count": 19,
   "id": "55d89a36-772d-4313-947d-79c529470a66",
   "metadata": {},
   "outputs": [
    {
     "name": "stdout",
     "output_type": "stream",
     "text": [
      "[ 5 10 15 20 25 30]\n",
      "[1 2 3 4 5 6]\n"
     ]
    }
   ],
   "source": [
    "arr_1=np.arange(5,31,5)\n",
    "arr_2=np.arange(1,7)\n",
    "print(arr_1)\n",
    "print(arr_2)"
   ]
  },
  {
   "cell_type": "code",
   "execution_count": 114,
   "id": "5582a8e5-a304-4890-b4eb-ab3f4c4b3795",
   "metadata": {},
   "outputs": [
    {
     "name": "stdout",
     "output_type": "stream",
     "text": [
      "[ 6 12 18 24 30 36]\n",
      "[ 4  8 12 16 20 24]\n",
      "[  5  20  45  80 125 180]\n",
      "[5. 5. 5. 5. 5. 5.]\n"
     ]
    }
   ],
   "source": [
    "print(arr_1+arr_2)\n",
    "print(arr_1-arr_2)\n",
    "print(arr_1*arr_2)\n",
    "print(arr_1/arr_2)"
   ]
  },
  {
   "cell_type": "code",
   "execution_count": null,
   "id": "138e41ca-9384-4891-bc9c-4b2bb7896092",
   "metadata": {},
   "outputs": [],
   "source": [
    "#6) 0-100 arası rastgele 10 tam sayıdan oluşan bir array oluşturun ve oluşturulan arrayin sum/mean/max/var/std değerlerini inceleyin.\n"
   ]
  },
  {
   "cell_type": "code",
   "execution_count": 28,
   "id": "4a026a34-67bd-4cea-8940-d002836b392d",
   "metadata": {},
   "outputs": [
    {
     "data": {
      "text/plain": [
       "array([14, 59, 19, 45, 31, 47, 50, 61, 50, 40])"
      ]
     },
     "execution_count": 28,
     "metadata": {},
     "output_type": "execute_result"
    }
   ],
   "source": [
    "calc_ar=np.random.randint(0,100,10)\n",
    "calc_ar"
   ]
  },
  {
   "cell_type": "code",
   "execution_count": 31,
   "id": "61d416ba-94fd-4892-a469-e59558bf0fb3",
   "metadata": {},
   "outputs": [
    {
     "name": "stdout",
     "output_type": "stream",
     "text": [
      "416\n",
      "41.6\n",
      "61\n",
      "224.84\n",
      "14.994665718181249\n"
     ]
    }
   ],
   "source": [
    "print(np.sum(calc_ar))\n",
    "print(np.mean(calc_ar))\n",
    "print(np.max(calc_ar))\n",
    "print(np.var(calc_ar))\n",
    "print(np.std(calc_ar))"
   ]
  },
  {
   "cell_type": "code",
   "execution_count": null,
   "id": "d85f2df6-dff6-4d7f-887b-4ae272db3099",
   "metadata": {},
   "outputs": [],
   "source": [
    "#7) 0-20 arası(20 dahil değil) tam sayılardan oluşan ve 500-530(530 dahil) arası tam sayılardan oluşan 2 array oluşturun. \n",
    "#Ardından bu iki array'i concatenate ederek ekrana yazdırın.\n"
   ]
  },
  {
   "cell_type": "code",
   "execution_count": 20,
   "id": "5751cf6b-06e5-4eb6-bd8d-b7e94a77dc74",
   "metadata": {},
   "outputs": [
    {
     "name": "stdout",
     "output_type": "stream",
     "text": [
      "[ 0  1  2  3  4  5  6  7  8  9 10 11 12 13 14 15 16 17 18 19]\n",
      "[500 501 502 503 504 505 506 507 508 509 510 511 512 513 514 515 516 517\n",
      " 518 519 520 521 522 523 524 525 526 527 528 529 530]\n"
     ]
    }
   ],
   "source": [
    "ar_1=np.arange(0,20)\n",
    "ar_2=np.arange(500,531)\n",
    "print(ar_1)\n",
    "print(ar_2)"
   ]
  },
  {
   "cell_type": "code",
   "execution_count": 36,
   "id": "46e84a07-5323-4d44-af0d-ad23f5cc0468",
   "metadata": {},
   "outputs": [
    {
     "data": {
      "text/plain": [
       "array([  0,   1,   2,   3,   4,   5,   6,   7,   8,   9,  10,  11,  12,\n",
       "        13,  14,  15,  16,  17,  18,  19, 500, 501, 502, 503, 504, 505,\n",
       "       506, 507, 508, 509, 510, 511, 512, 513, 514, 515, 516, 517, 518,\n",
       "       519, 520, 521, 522, 523, 524, 525, 526, 527, 528, 529, 530])"
      ]
     },
     "execution_count": 36,
     "metadata": {},
     "output_type": "execute_result"
    }
   ],
   "source": [
    "np.concatenate([ar_1,ar_2])"
   ]
  },
  {
   "cell_type": "code",
   "execution_count": null,
   "id": "afbfbf6a-315c-4a30-ac21-e8f1036982c1",
   "metadata": {},
   "outputs": [],
   "source": [
    "#8) 15-50(50 dahil) arası tam sayılardan oluşan bir array oluşturun. Daha sonra 10-100 arası(100 dahil) tam sayılardan oluşan 2.bir array oluşturun.\n",
    "#Bu 2 arrayi concatanate ederek 3.bir array oluşturun ve bu array'in 25.index ile 50.index'i(50 dahil) arasındaki değerlerini 888 yapın.\n"
   ]
  },
  {
   "cell_type": "code",
   "execution_count": 38,
   "id": "5a604fec-b55e-4f30-85b3-198bb2f8730d",
   "metadata": {},
   "outputs": [
    {
     "data": {
      "text/plain": [
       "array([15, 16, 17, 18, 19, 20, 21, 22, 23, 24, 25, 26, 27, 28, 29, 30, 31,\n",
       "       32, 33, 34, 35, 36, 37, 38, 39, 40, 41, 42, 43, 44, 45, 46, 47, 48,\n",
       "       49, 50])"
      ]
     },
     "execution_count": 38,
     "metadata": {},
     "output_type": "execute_result"
    }
   ],
   "source": [
    "new_ar=np.arange(15,51)\n",
    "new_ar"
   ]
  },
  {
   "cell_type": "code",
   "execution_count": 39,
   "id": "9b474935-f38c-4926-8024-e9a2a87c2179",
   "metadata": {
    "scrolled": true
   },
   "outputs": [
    {
     "data": {
      "text/plain": [
       "array([ 10,  11,  12,  13,  14,  15,  16,  17,  18,  19,  20,  21,  22,\n",
       "        23,  24,  25,  26,  27,  28,  29,  30,  31,  32,  33,  34,  35,\n",
       "        36,  37,  38,  39,  40,  41,  42,  43,  44,  45,  46,  47,  48,\n",
       "        49,  50,  51,  52,  53,  54,  55,  56,  57,  58,  59,  60,  61,\n",
       "        62,  63,  64,  65,  66,  67,  68,  69,  70,  71,  72,  73,  74,\n",
       "        75,  76,  77,  78,  79,  80,  81,  82,  83,  84,  85,  86,  87,\n",
       "        88,  89,  90,  91,  92,  93,  94,  95,  96,  97,  98,  99, 100])"
      ]
     },
     "execution_count": 39,
     "metadata": {},
     "output_type": "execute_result"
    }
   ],
   "source": [
    "new_ar2=np.arange(10,101)\n",
    "new_ar2"
   ]
  },
  {
   "cell_type": "code",
   "execution_count": 40,
   "id": "b913b92a-afb1-4d06-8327-9178436cbdb9",
   "metadata": {},
   "outputs": [
    {
     "data": {
      "text/plain": [
       "array([ 15,  16,  17,  18,  19,  20,  21,  22,  23,  24,  25,  26,  27,\n",
       "        28,  29,  30,  31,  32,  33,  34,  35,  36,  37,  38,  39,  40,\n",
       "        41,  42,  43,  44,  45,  46,  47,  48,  49,  50,  10,  11,  12,\n",
       "        13,  14,  15,  16,  17,  18,  19,  20,  21,  22,  23,  24,  25,\n",
       "        26,  27,  28,  29,  30,  31,  32,  33,  34,  35,  36,  37,  38,\n",
       "        39,  40,  41,  42,  43,  44,  45,  46,  47,  48,  49,  50,  51,\n",
       "        52,  53,  54,  55,  56,  57,  58,  59,  60,  61,  62,  63,  64,\n",
       "        65,  66,  67,  68,  69,  70,  71,  72,  73,  74,  75,  76,  77,\n",
       "        78,  79,  80,  81,  82,  83,  84,  85,  86,  87,  88,  89,  90,\n",
       "        91,  92,  93,  94,  95,  96,  97,  98,  99, 100])"
      ]
     },
     "execution_count": 40,
     "metadata": {},
     "output_type": "execute_result"
    }
   ],
   "source": [
    "concat_ar=np.concatenate([new_ar,new_ar2])\n",
    "concat_ar"
   ]
  },
  {
   "cell_type": "code",
   "execution_count": 41,
   "id": "395c90d8-370c-442f-a627-259a0edc52fe",
   "metadata": {},
   "outputs": [
    {
     "data": {
      "text/plain": [
       "array([ 15,  16,  17,  18,  19,  20,  21,  22,  23,  24,  25,  26,  27,\n",
       "        28,  29,  30,  31,  32,  33,  34,  35,  36,  37,  38,  39, 888,\n",
       "       888, 888, 888, 888, 888, 888, 888, 888, 888, 888, 888, 888, 888,\n",
       "       888, 888, 888, 888, 888, 888, 888, 888, 888, 888, 888, 888,  25,\n",
       "        26,  27,  28,  29,  30,  31,  32,  33,  34,  35,  36,  37,  38,\n",
       "        39,  40,  41,  42,  43,  44,  45,  46,  47,  48,  49,  50,  51,\n",
       "        52,  53,  54,  55,  56,  57,  58,  59,  60,  61,  62,  63,  64,\n",
       "        65,  66,  67,  68,  69,  70,  71,  72,  73,  74,  75,  76,  77,\n",
       "        78,  79,  80,  81,  82,  83,  84,  85,  86,  87,  88,  89,  90,\n",
       "        91,  92,  93,  94,  95,  96,  97,  98,  99, 100])"
      ]
     },
     "execution_count": 41,
     "metadata": {},
     "output_type": "execute_result"
    }
   ],
   "source": [
    "concat_ar[25:51]=888\n",
    "concat_ar"
   ]
  },
  {
   "cell_type": "code",
   "execution_count": null,
   "id": "64287934-829d-4870-a36f-3e615330db3f",
   "metadata": {},
   "outputs": [],
   "source": [
    "#9) 0-40(40 dahil değil) arası değerlerden oluşan (8,5) shape'inde 2 boyutlu bir array ve  320-360(360 dahil değil) değerlerinden oluşan (8,5)\n",
    "#shape'inde 2 boyutlubaşka bir array oluşturun. Devamında bu iki array'i hem axis = 0'da hem de axis = 1'de concatenate ederek farkı karşılaştırın.\n"
   ]
  },
  {
   "cell_type": "code",
   "execution_count": 23,
   "id": "a973a73f-a4c1-4868-bd5b-349dc9e3ebf5",
   "metadata": {},
   "outputs": [
    {
     "name": "stdout",
     "output_type": "stream",
     "text": [
      "[[ 0  1  2  3  4]\n",
      " [ 5  6  7  8  9]\n",
      " [10 11 12 13 14]\n",
      " [15 16 17 18 19]\n",
      " [20 21 22 23 24]\n",
      " [25 26 27 28 29]\n",
      " [30 31 32 33 34]\n",
      " [35 36 37 38 39]]\n"
     ]
    }
   ],
   "source": [
    "new_ar1=np.arange(40).reshape(8,5)\n",
    "new_ar1"
   ]
  },
  {
   "cell_type": "code",
   "execution_count": 24,
   "id": "2eabad0d-b369-4db9-9b7f-d0cf22a58455",
   "metadata": {},
   "outputs": [
    {
     "name": "stdout",
     "output_type": "stream",
     "text": [
      "[[320 321 322 323 324]\n",
      " [325 326 327 328 329]\n",
      " [330 331 332 333 334]\n",
      " [335 336 337 338 339]\n",
      " [340 341 342 343 344]\n",
      " [345 346 347 348 349]\n",
      " [350 351 352 353 354]\n",
      " [355 356 357 358 359]]\n"
     ]
    }
   ],
   "source": [
    "new_ar2=np.arange(320,360).reshape(8,5)\n",
    "new_ar2"
   ]
  },
  {
   "cell_type": "code",
   "execution_count": 25,
   "id": "d37a2f48-883c-4850-b9c3-baa4736bcf05",
   "metadata": {},
   "outputs": [
    {
     "data": {
      "text/plain": [
       "array([[  0,   1,   2,   3,   4],\n",
       "       [  5,   6,   7,   8,   9],\n",
       "       [ 10,  11,  12,  13,  14],\n",
       "       [ 15,  16,  17,  18,  19],\n",
       "       [ 20,  21,  22,  23,  24],\n",
       "       [ 25,  26,  27,  28,  29],\n",
       "       [ 30,  31,  32,  33,  34],\n",
       "       [ 35,  36,  37,  38,  39],\n",
       "       [320, 321, 322, 323, 324],\n",
       "       [325, 326, 327, 328, 329],\n",
       "       [330, 331, 332, 333, 334],\n",
       "       [335, 336, 337, 338, 339],\n",
       "       [340, 341, 342, 343, 344],\n",
       "       [345, 346, 347, 348, 349],\n",
       "       [350, 351, 352, 353, 354],\n",
       "       [355, 356, 357, 358, 359]])"
      ]
     },
     "execution_count": 25,
     "metadata": {},
     "output_type": "execute_result"
    }
   ],
   "source": [
    "np.concatenate([new_ar1,new_ar2],axis=0) "
   ]
  },
  {
   "cell_type": "code",
   "execution_count": 26,
   "id": "95ff2f6c-ca60-4d1a-87c3-18e6b410e61e",
   "metadata": {},
   "outputs": [
    {
     "data": {
      "text/plain": [
       "array([[  0,   1,   2,   3,   4, 320, 321, 322, 323, 324],\n",
       "       [  5,   6,   7,   8,   9, 325, 326, 327, 328, 329],\n",
       "       [ 10,  11,  12,  13,  14, 330, 331, 332, 333, 334],\n",
       "       [ 15,  16,  17,  18,  19, 335, 336, 337, 338, 339],\n",
       "       [ 20,  21,  22,  23,  24, 340, 341, 342, 343, 344],\n",
       "       [ 25,  26,  27,  28,  29, 345, 346, 347, 348, 349],\n",
       "       [ 30,  31,  32,  33,  34, 350, 351, 352, 353, 354],\n",
       "       [ 35,  36,  37,  38,  39, 355, 356, 357, 358, 359]])"
      ]
     },
     "execution_count": 26,
     "metadata": {},
     "output_type": "execute_result"
    }
   ],
   "source": [
    "np.concatenate([new_ar1,new_ar2],axis=1)  "
   ]
  },
  {
   "cell_type": "code",
   "execution_count": null,
   "id": "d6fb9952-5a40-45ed-8ce9-7aa60e34c934",
   "metadata": {},
   "outputs": [],
   "source": [
    "#10) 9.Soruda oluşturduğunuz 2 array'i sutunlara gore stacklemeye(yığınlamaya) çalışın.\n"
   ]
  },
  {
   "cell_type": "code",
   "execution_count": 61,
   "id": "030cfa82-32b5-466e-944e-5f85ea0cecd0",
   "metadata": {},
   "outputs": [
    {
     "data": {
      "text/plain": [
       "array([[[  0,   1,   2,   3,   4],\n",
       "        [320, 321, 322, 323, 324]],\n",
       "\n",
       "       [[  5,   6,   7,   8,   9],\n",
       "        [325, 326, 327, 328, 329]],\n",
       "\n",
       "       [[ 10,  11,  12,  13,  14],\n",
       "        [330, 331, 332, 333, 334]],\n",
       "\n",
       "       [[ 15,  16,  17,  18,  19],\n",
       "        [335, 336, 337, 338, 339]],\n",
       "\n",
       "       [[ 20,  21,  22,  23,  24],\n",
       "        [340, 341, 342, 343, 344]],\n",
       "\n",
       "       [[ 25,  26,  27,  28,  29],\n",
       "        [345, 346, 347, 348, 349]],\n",
       "\n",
       "       [[ 30,  31,  32,  33,  34],\n",
       "        [350, 351, 352, 353, 354]],\n",
       "\n",
       "       [[ 35,  36,  37,  38,  39],\n",
       "        [355, 356, 357, 358, 359]]])"
      ]
     },
     "execution_count": 61,
     "metadata": {},
     "output_type": "execute_result"
    }
   ],
   "source": [
    "np.stack([new_ar1,new_ar2],axis=1)"
   ]
  },
  {
   "cell_type": "code",
   "execution_count": null,
   "id": "5b2f395c-4b24-4ef7-af42-56d6b463f0a2",
   "metadata": {},
   "outputs": [],
   "source": [
    "#11) [1, 20, 25, 4, 4, 5, 4, 4, 1, 6, 9, 12, 1, 5] değerlerinden oluşan bir boyutlu bir array oluşturun. Devamında bu array'in içinde değeri 5'e \n",
    "#eşit olan değerlerin indexleri bulun.\n"
   ]
  },
  {
   "cell_type": "code",
   "execution_count": 63,
   "id": "624a097b-c950-40c7-a661-dd9d9cbbd33a",
   "metadata": {},
   "outputs": [
    {
     "data": {
      "text/plain": [
       "(array([ 5, 13], dtype=int64),)"
      ]
     },
     "execution_count": 63,
     "metadata": {},
     "output_type": "execute_result"
    }
   ],
   "source": [
    "arr=np.array([1, 20, 25, 4, 4, 5, 4, 4, 1, 6, 9, 12, 1, 5])\n",
    "np.where(arr==5)"
   ]
  },
  {
   "cell_type": "code",
   "execution_count": null,
   "id": "0b63f30e-9133-4874-99b3-382196147e2a",
   "metadata": {},
   "outputs": [],
   "source": [
    "#12) Yukarıda oluşturduğunuz array içinde değeri çift olan değerlerin indexlerini bulun.\n"
   ]
  },
  {
   "cell_type": "code",
   "execution_count": 64,
   "id": "85d53b4e-74d4-417c-a1ae-f6bd4f793675",
   "metadata": {},
   "outputs": [
    {
     "data": {
      "text/plain": [
       "(array([ 1,  3,  4,  6,  7,  9, 11], dtype=int64),)"
      ]
     },
     "execution_count": 64,
     "metadata": {},
     "output_type": "execute_result"
    }
   ],
   "source": [
    "np.where(arr%2==0)"
   ]
  },
  {
   "cell_type": "code",
   "execution_count": null,
   "id": "ce302fdc-23b9-40c4-acd0-d632dfc21b72",
   "metadata": {},
   "outputs": [],
   "source": [
    "#13) Yukarıda oluşturduğunuz array içinde değeri 4'den büyük olan değerlerin indexlerini bulun.\n"
   ]
  },
  {
   "cell_type": "code",
   "execution_count": 65,
   "id": "e0abb91d-5a24-4b2c-bd12-5fb02e0851af",
   "metadata": {},
   "outputs": [
    {
     "data": {
      "text/plain": [
       "(array([ 1,  2,  5,  9, 10, 11, 13], dtype=int64),)"
      ]
     },
     "execution_count": 65,
     "metadata": {},
     "output_type": "execute_result"
    }
   ],
   "source": [
    "np.where(arr>4)"
   ]
  },
  {
   "cell_type": "code",
   "execution_count": null,
   "id": "25755677-a122-4ac4-b9b9-1b010f67ae48",
   "metadata": {},
   "outputs": [],
   "source": [
    "#14) Yukarıda oluşturduğunuz array içinde değeri 5'e tam bölünen değerlerin indexlerini bulun.\n"
   ]
  },
  {
   "cell_type": "code",
   "execution_count": 66,
   "id": "a05e63f6-c226-4e90-a723-42d0bc007898",
   "metadata": {},
   "outputs": [
    {
     "data": {
      "text/plain": [
       "(array([ 1,  2,  5, 13], dtype=int64),)"
      ]
     },
     "execution_count": 66,
     "metadata": {},
     "output_type": "execute_result"
    }
   ],
   "source": [
    "np.where(arr%5==0)"
   ]
  },
  {
   "cell_type": "code",
   "execution_count": null,
   "id": "e8c0be78-59aa-4ed4-8441-a19e065fa93d",
   "metadata": {},
   "outputs": [],
   "source": [
    "#15) 85-100(100 dahil) arasından rastgele 1 tam sayı seçin\n"
   ]
  },
  {
   "cell_type": "code",
   "execution_count": 80,
   "id": "d7f14916-555a-4760-9971-ad0db28e36d6",
   "metadata": {},
   "outputs": [
    {
     "data": {
      "text/plain": [
       "88"
      ]
     },
     "execution_count": 80,
     "metadata": {},
     "output_type": "execute_result"
    }
   ],
   "source": [
    "arr=np.arange(85,101)\n",
    "np.random.choice(arr)"
   ]
  },
  {
   "cell_type": "code",
   "execution_count": 74,
   "id": "ef0e5f4d-b242-49d7-9568-e45f0db297e7",
   "metadata": {},
   "outputs": [],
   "source": [
    "#16) İki basamaklı tam sayılar arasından rastgele sayılar seçerek (3,3) shape'inde bir array oluşturun.\n"
   ]
  },
  {
   "cell_type": "code",
   "execution_count": 99,
   "id": "c3abd352-1843-4ea2-a05b-3105bc0f6d5c",
   "metadata": {},
   "outputs": [
    {
     "data": {
      "text/plain": [
       "array([[85, 16, 45],\n",
       "       [90, 68, 21],\n",
       "       [25, 44, 63]])"
      ]
     },
     "execution_count": 99,
     "metadata": {},
     "output_type": "execute_result"
    }
   ],
   "source": [
    "arr=np.arange(10,100)\n",
    "\n",
    "np.random.choice(arr,9).reshape(3,3)  #ve ya np.random.randint(10,100,9).reshape(3,3)"
   ]
  },
  {
   "cell_type": "code",
   "execution_count": null,
   "id": "31b45424-05a7-495d-8c09-bb2dfb10680a",
   "metadata": {},
   "outputs": [],
   "source": [
    "#17) 35-60 arasındaki tam sayılardan bir array oluşturun, ardından bu array içinden rastgele 1 tam sayı seçin.\n"
   ]
  },
  {
   "cell_type": "code",
   "execution_count": 108,
   "id": "44d652a5-729e-4a41-b4f7-25e8e806d571",
   "metadata": {},
   "outputs": [
    {
     "data": {
      "text/plain": [
       "58"
      ]
     },
     "execution_count": 108,
     "metadata": {},
     "output_type": "execute_result"
    }
   ],
   "source": [
    "arr=np.arange(35,60)\n",
    "np.random.choice(arr)"
   ]
  },
  {
   "cell_type": "code",
   "execution_count": 107,
   "id": "cdb9e9cd-8d54-46b4-b624-e62442e5025d",
   "metadata": {},
   "outputs": [],
   "source": [
    "#18) Sadece [3, 8, 10, 53] değerlerinden oluşan (2,5) shape'inde 2 boyutlu bir array oluşturun.\n"
   ]
  },
  {
   "cell_type": "code",
   "execution_count": 29,
   "id": "e962058f-72e8-479a-8742-04a861863485",
   "metadata": {},
   "outputs": [
    {
     "data": {
      "text/plain": [
       "array([[10,  8, 53,  3, 10],\n",
       "       [53,  3, 10,  8,  3]])"
      ]
     },
     "execution_count": 29,
     "metadata": {},
     "output_type": "execute_result"
    }
   ],
   "source": [
    "arr=np.array([3,8,10,53])\n",
    "np.random.choice(arr,10).reshape(2,5)"
   ]
  }
 ],
 "metadata": {
  "kernelspec": {
   "display_name": "Python 3 (ipykernel)",
   "language": "python",
   "name": "python3"
  },
  "language_info": {
   "codemirror_mode": {
    "name": "ipython",
    "version": 3
   },
   "file_extension": ".py",
   "mimetype": "text/x-python",
   "name": "python",
   "nbconvert_exporter": "python",
   "pygments_lexer": "ipython3",
   "version": "3.12.4"
  }
 },
 "nbformat": 4,
 "nbformat_minor": 5
}
